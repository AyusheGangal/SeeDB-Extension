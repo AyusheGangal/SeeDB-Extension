{
 "cells": [
  {
   "cell_type": "code",
   "execution_count": 5,
   "id": "0c9599e3",
   "metadata": {},
   "outputs": [
    {
     "name": "stdout",
     "output_type": "stream",
     "text": [
      "Collecting psycopg2-binary\n",
      "  Downloading psycopg2_binary-2.9.3-cp39-cp39-macosx_10_14_x86_64.macosx_10_9_intel.macosx_10_9_x86_64.macosx_10_10_intel.macosx_10_10_x86_64.whl (2.2 MB)\n",
      "\u001b[K     |████████████████████████████████| 2.2 MB 3.8 MB/s eta 0:00:01\n",
      "\u001b[?25hInstalling collected packages: psycopg2-binary\n",
      "Successfully installed psycopg2-binary-2.9.3\n",
      "Note: you may need to restart the kernel to use updated packages.\n"
     ]
    }
   ],
   "source": [
    "pip install psycopg2-binary"
   ]
  },
  {
   "cell_type": "code",
   "execution_count": 305,
   "id": "ecccab96",
   "metadata": {},
   "outputs": [],
   "source": [
    "import psycopg2\n",
    "from scipy import stats as kl\n",
    "import math\n",
    "import numpy as np\n",
    "import pandas as pd\n",
    "import json\n",
    "import time"
   ]
  },
  {
   "cell_type": "code",
   "execution_count": 327,
   "id": "5034b088",
   "metadata": {},
   "outputs": [],
   "source": [
    "conn = psycopg2.connect(\"dbname=postgres user=postgres password=postgres\")"
   ]
  },
  {
   "cell_type": "code",
   "execution_count": 95,
   "id": "72f88852",
   "metadata": {},
   "outputs": [],
   "source": [
    "# Importing the Mental Health in Tech Survey Dataset\n",
    "df = pd.read_csv(\"./Downloads/survey_mht.csv\")"
   ]
  },
  {
   "cell_type": "code",
   "execution_count": 96,
   "id": "d2a6de12",
   "metadata": {},
   "outputs": [
    {
     "data": {
      "text/html": [
       "<div>\n",
       "<style scoped>\n",
       "    .dataframe tbody tr th:only-of-type {\n",
       "        vertical-align: middle;\n",
       "    }\n",
       "\n",
       "    .dataframe tbody tr th {\n",
       "        vertical-align: top;\n",
       "    }\n",
       "\n",
       "    .dataframe thead th {\n",
       "        text-align: right;\n",
       "    }\n",
       "</style>\n",
       "<table border=\"1\" class=\"dataframe\">\n",
       "  <thead>\n",
       "    <tr style=\"text-align: right;\">\n",
       "      <th></th>\n",
       "      <th>Timestamp</th>\n",
       "      <th>Age</th>\n",
       "      <th>Gender</th>\n",
       "      <th>Country</th>\n",
       "      <th>state</th>\n",
       "      <th>self_employed</th>\n",
       "      <th>family_history</th>\n",
       "      <th>treatment</th>\n",
       "      <th>work_interfere</th>\n",
       "      <th>no_employees</th>\n",
       "      <th>...</th>\n",
       "      <th>leave</th>\n",
       "      <th>mental_health_consequence</th>\n",
       "      <th>phys_health_consequence</th>\n",
       "      <th>coworkers</th>\n",
       "      <th>supervisor</th>\n",
       "      <th>mental_health_interview</th>\n",
       "      <th>phys_health_interview</th>\n",
       "      <th>mental_vs_physical</th>\n",
       "      <th>obs_consequence</th>\n",
       "      <th>comments</th>\n",
       "    </tr>\n",
       "  </thead>\n",
       "  <tbody>\n",
       "    <tr>\n",
       "      <th>0</th>\n",
       "      <td>2014-08-27 11:29:31</td>\n",
       "      <td>37</td>\n",
       "      <td>Female</td>\n",
       "      <td>United States</td>\n",
       "      <td>IL</td>\n",
       "      <td>NaN</td>\n",
       "      <td>No</td>\n",
       "      <td>Yes</td>\n",
       "      <td>Often</td>\n",
       "      <td>6-25</td>\n",
       "      <td>...</td>\n",
       "      <td>Somewhat easy</td>\n",
       "      <td>No</td>\n",
       "      <td>No</td>\n",
       "      <td>Some of them</td>\n",
       "      <td>Yes</td>\n",
       "      <td>No</td>\n",
       "      <td>Maybe</td>\n",
       "      <td>Yes</td>\n",
       "      <td>No</td>\n",
       "      <td>NaN</td>\n",
       "    </tr>\n",
       "    <tr>\n",
       "      <th>1</th>\n",
       "      <td>2014-08-27 11:29:37</td>\n",
       "      <td>44</td>\n",
       "      <td>M</td>\n",
       "      <td>United States</td>\n",
       "      <td>IN</td>\n",
       "      <td>NaN</td>\n",
       "      <td>No</td>\n",
       "      <td>No</td>\n",
       "      <td>Rarely</td>\n",
       "      <td>More than 1000</td>\n",
       "      <td>...</td>\n",
       "      <td>Don't know</td>\n",
       "      <td>Maybe</td>\n",
       "      <td>No</td>\n",
       "      <td>No</td>\n",
       "      <td>No</td>\n",
       "      <td>No</td>\n",
       "      <td>No</td>\n",
       "      <td>Don't know</td>\n",
       "      <td>No</td>\n",
       "      <td>NaN</td>\n",
       "    </tr>\n",
       "    <tr>\n",
       "      <th>2</th>\n",
       "      <td>2014-08-27 11:29:44</td>\n",
       "      <td>32</td>\n",
       "      <td>Male</td>\n",
       "      <td>Canada</td>\n",
       "      <td>NaN</td>\n",
       "      <td>NaN</td>\n",
       "      <td>No</td>\n",
       "      <td>No</td>\n",
       "      <td>Rarely</td>\n",
       "      <td>6-25</td>\n",
       "      <td>...</td>\n",
       "      <td>Somewhat difficult</td>\n",
       "      <td>No</td>\n",
       "      <td>No</td>\n",
       "      <td>Yes</td>\n",
       "      <td>Yes</td>\n",
       "      <td>Yes</td>\n",
       "      <td>Yes</td>\n",
       "      <td>No</td>\n",
       "      <td>No</td>\n",
       "      <td>NaN</td>\n",
       "    </tr>\n",
       "    <tr>\n",
       "      <th>3</th>\n",
       "      <td>2014-08-27 11:29:46</td>\n",
       "      <td>31</td>\n",
       "      <td>Male</td>\n",
       "      <td>United Kingdom</td>\n",
       "      <td>NaN</td>\n",
       "      <td>NaN</td>\n",
       "      <td>Yes</td>\n",
       "      <td>Yes</td>\n",
       "      <td>Often</td>\n",
       "      <td>26-100</td>\n",
       "      <td>...</td>\n",
       "      <td>Somewhat difficult</td>\n",
       "      <td>Yes</td>\n",
       "      <td>Yes</td>\n",
       "      <td>Some of them</td>\n",
       "      <td>No</td>\n",
       "      <td>Maybe</td>\n",
       "      <td>Maybe</td>\n",
       "      <td>No</td>\n",
       "      <td>Yes</td>\n",
       "      <td>NaN</td>\n",
       "    </tr>\n",
       "    <tr>\n",
       "      <th>4</th>\n",
       "      <td>2014-08-27 11:30:22</td>\n",
       "      <td>31</td>\n",
       "      <td>Male</td>\n",
       "      <td>United States</td>\n",
       "      <td>TX</td>\n",
       "      <td>NaN</td>\n",
       "      <td>No</td>\n",
       "      <td>No</td>\n",
       "      <td>Never</td>\n",
       "      <td>100-500</td>\n",
       "      <td>...</td>\n",
       "      <td>Don't know</td>\n",
       "      <td>No</td>\n",
       "      <td>No</td>\n",
       "      <td>Some of them</td>\n",
       "      <td>Yes</td>\n",
       "      <td>Yes</td>\n",
       "      <td>Yes</td>\n",
       "      <td>Don't know</td>\n",
       "      <td>No</td>\n",
       "      <td>NaN</td>\n",
       "    </tr>\n",
       "    <tr>\n",
       "      <th>...</th>\n",
       "      <td>...</td>\n",
       "      <td>...</td>\n",
       "      <td>...</td>\n",
       "      <td>...</td>\n",
       "      <td>...</td>\n",
       "      <td>...</td>\n",
       "      <td>...</td>\n",
       "      <td>...</td>\n",
       "      <td>...</td>\n",
       "      <td>...</td>\n",
       "      <td>...</td>\n",
       "      <td>...</td>\n",
       "      <td>...</td>\n",
       "      <td>...</td>\n",
       "      <td>...</td>\n",
       "      <td>...</td>\n",
       "      <td>...</td>\n",
       "      <td>...</td>\n",
       "      <td>...</td>\n",
       "      <td>...</td>\n",
       "      <td>...</td>\n",
       "    </tr>\n",
       "    <tr>\n",
       "      <th>1254</th>\n",
       "      <td>2015-09-12 11:17:21</td>\n",
       "      <td>26</td>\n",
       "      <td>male</td>\n",
       "      <td>United Kingdom</td>\n",
       "      <td>NaN</td>\n",
       "      <td>No</td>\n",
       "      <td>No</td>\n",
       "      <td>Yes</td>\n",
       "      <td>NaN</td>\n",
       "      <td>26-100</td>\n",
       "      <td>...</td>\n",
       "      <td>Somewhat easy</td>\n",
       "      <td>No</td>\n",
       "      <td>No</td>\n",
       "      <td>Some of them</td>\n",
       "      <td>Some of them</td>\n",
       "      <td>No</td>\n",
       "      <td>No</td>\n",
       "      <td>Don't know</td>\n",
       "      <td>No</td>\n",
       "      <td>NaN</td>\n",
       "    </tr>\n",
       "    <tr>\n",
       "      <th>1255</th>\n",
       "      <td>2015-09-26 01:07:35</td>\n",
       "      <td>32</td>\n",
       "      <td>Male</td>\n",
       "      <td>United States</td>\n",
       "      <td>IL</td>\n",
       "      <td>No</td>\n",
       "      <td>Yes</td>\n",
       "      <td>Yes</td>\n",
       "      <td>Often</td>\n",
       "      <td>26-100</td>\n",
       "      <td>...</td>\n",
       "      <td>Somewhat difficult</td>\n",
       "      <td>No</td>\n",
       "      <td>No</td>\n",
       "      <td>Some of them</td>\n",
       "      <td>Yes</td>\n",
       "      <td>No</td>\n",
       "      <td>No</td>\n",
       "      <td>Yes</td>\n",
       "      <td>No</td>\n",
       "      <td>NaN</td>\n",
       "    </tr>\n",
       "    <tr>\n",
       "      <th>1256</th>\n",
       "      <td>2015-11-07 12:36:58</td>\n",
       "      <td>34</td>\n",
       "      <td>male</td>\n",
       "      <td>United States</td>\n",
       "      <td>CA</td>\n",
       "      <td>No</td>\n",
       "      <td>Yes</td>\n",
       "      <td>Yes</td>\n",
       "      <td>Sometimes</td>\n",
       "      <td>More than 1000</td>\n",
       "      <td>...</td>\n",
       "      <td>Somewhat difficult</td>\n",
       "      <td>Yes</td>\n",
       "      <td>Yes</td>\n",
       "      <td>No</td>\n",
       "      <td>No</td>\n",
       "      <td>No</td>\n",
       "      <td>No</td>\n",
       "      <td>No</td>\n",
       "      <td>No</td>\n",
       "      <td>NaN</td>\n",
       "    </tr>\n",
       "    <tr>\n",
       "      <th>1257</th>\n",
       "      <td>2015-11-30 21:25:06</td>\n",
       "      <td>46</td>\n",
       "      <td>f</td>\n",
       "      <td>United States</td>\n",
       "      <td>NC</td>\n",
       "      <td>No</td>\n",
       "      <td>No</td>\n",
       "      <td>No</td>\n",
       "      <td>NaN</td>\n",
       "      <td>100-500</td>\n",
       "      <td>...</td>\n",
       "      <td>Don't know</td>\n",
       "      <td>Yes</td>\n",
       "      <td>No</td>\n",
       "      <td>No</td>\n",
       "      <td>No</td>\n",
       "      <td>No</td>\n",
       "      <td>No</td>\n",
       "      <td>No</td>\n",
       "      <td>No</td>\n",
       "      <td>NaN</td>\n",
       "    </tr>\n",
       "    <tr>\n",
       "      <th>1258</th>\n",
       "      <td>2016-02-01 23:04:31</td>\n",
       "      <td>25</td>\n",
       "      <td>Male</td>\n",
       "      <td>United States</td>\n",
       "      <td>IL</td>\n",
       "      <td>No</td>\n",
       "      <td>Yes</td>\n",
       "      <td>Yes</td>\n",
       "      <td>Sometimes</td>\n",
       "      <td>26-100</td>\n",
       "      <td>...</td>\n",
       "      <td>Don't know</td>\n",
       "      <td>Maybe</td>\n",
       "      <td>No</td>\n",
       "      <td>Some of them</td>\n",
       "      <td>No</td>\n",
       "      <td>No</td>\n",
       "      <td>No</td>\n",
       "      <td>Don't know</td>\n",
       "      <td>No</td>\n",
       "      <td>NaN</td>\n",
       "    </tr>\n",
       "  </tbody>\n",
       "</table>\n",
       "<p>1259 rows × 27 columns</p>\n",
       "</div>"
      ],
      "text/plain": [
       "                Timestamp  Age  Gender         Country state self_employed  \\\n",
       "0     2014-08-27 11:29:31   37  Female   United States    IL           NaN   \n",
       "1     2014-08-27 11:29:37   44       M   United States    IN           NaN   \n",
       "2     2014-08-27 11:29:44   32    Male          Canada   NaN           NaN   \n",
       "3     2014-08-27 11:29:46   31    Male  United Kingdom   NaN           NaN   \n",
       "4     2014-08-27 11:30:22   31    Male   United States    TX           NaN   \n",
       "...                   ...  ...     ...             ...   ...           ...   \n",
       "1254  2015-09-12 11:17:21   26    male  United Kingdom   NaN            No   \n",
       "1255  2015-09-26 01:07:35   32    Male   United States    IL            No   \n",
       "1256  2015-11-07 12:36:58   34    male   United States    CA            No   \n",
       "1257  2015-11-30 21:25:06   46       f   United States    NC            No   \n",
       "1258  2016-02-01 23:04:31   25    Male   United States    IL            No   \n",
       "\n",
       "     family_history treatment work_interfere    no_employees  ...  \\\n",
       "0                No       Yes          Often            6-25  ...   \n",
       "1                No        No         Rarely  More than 1000  ...   \n",
       "2                No        No         Rarely            6-25  ...   \n",
       "3               Yes       Yes          Often          26-100  ...   \n",
       "4                No        No          Never         100-500  ...   \n",
       "...             ...       ...            ...             ...  ...   \n",
       "1254             No       Yes            NaN          26-100  ...   \n",
       "1255            Yes       Yes          Often          26-100  ...   \n",
       "1256            Yes       Yes      Sometimes  More than 1000  ...   \n",
       "1257             No        No            NaN         100-500  ...   \n",
       "1258            Yes       Yes      Sometimes          26-100  ...   \n",
       "\n",
       "                   leave mental_health_consequence phys_health_consequence  \\\n",
       "0          Somewhat easy                        No                      No   \n",
       "1             Don't know                     Maybe                      No   \n",
       "2     Somewhat difficult                        No                      No   \n",
       "3     Somewhat difficult                       Yes                     Yes   \n",
       "4             Don't know                        No                      No   \n",
       "...                  ...                       ...                     ...   \n",
       "1254       Somewhat easy                        No                      No   \n",
       "1255  Somewhat difficult                        No                      No   \n",
       "1256  Somewhat difficult                       Yes                     Yes   \n",
       "1257          Don't know                       Yes                      No   \n",
       "1258          Don't know                     Maybe                      No   \n",
       "\n",
       "         coworkers    supervisor mental_health_interview  \\\n",
       "0     Some of them           Yes                      No   \n",
       "1               No            No                      No   \n",
       "2              Yes           Yes                     Yes   \n",
       "3     Some of them            No                   Maybe   \n",
       "4     Some of them           Yes                     Yes   \n",
       "...            ...           ...                     ...   \n",
       "1254  Some of them  Some of them                      No   \n",
       "1255  Some of them           Yes                      No   \n",
       "1256            No            No                      No   \n",
       "1257            No            No                      No   \n",
       "1258  Some of them            No                      No   \n",
       "\n",
       "     phys_health_interview mental_vs_physical obs_consequence comments  \n",
       "0                    Maybe                Yes              No      NaN  \n",
       "1                       No         Don't know              No      NaN  \n",
       "2                      Yes                 No              No      NaN  \n",
       "3                    Maybe                 No             Yes      NaN  \n",
       "4                      Yes         Don't know              No      NaN  \n",
       "...                    ...                ...             ...      ...  \n",
       "1254                    No         Don't know              No      NaN  \n",
       "1255                    No                Yes              No      NaN  \n",
       "1256                    No                 No              No      NaN  \n",
       "1257                    No                 No              No      NaN  \n",
       "1258                    No         Don't know              No      NaN  \n",
       "\n",
       "[1259 rows x 27 columns]"
      ]
     },
     "execution_count": 96,
     "metadata": {},
     "output_type": "execute_result"
    }
   ],
   "source": [
    "# Printing the dataframe\n",
    "df"
   ]
  },
  {
   "cell_type": "code",
   "execution_count": 98,
   "id": "b9f6c8fa",
   "metadata": {},
   "outputs": [
    {
     "data": {
      "text/plain": [
       "(1259, 27)"
      ]
     },
     "execution_count": 98,
     "metadata": {},
     "output_type": "execute_result"
    }
   ],
   "source": [
    "# Finding the shape pof the dataframe\n",
    "df.shape"
   ]
  },
  {
   "cell_type": "code",
   "execution_count": 99,
   "id": "158d6bf1",
   "metadata": {
    "scrolled": true
   },
   "outputs": [
    {
     "name": "stdout",
     "output_type": "stream",
     "text": [
      "Index(['Timestamp', 'Age', 'Gender', 'Country', 'state', 'self_employed',\n",
      "       'family_history', 'treatment', 'work_interfere', 'no_employees',\n",
      "       'remote_work', 'tech_company', 'benefits', 'care_options',\n",
      "       'wellness_program', 'seek_help', 'anonymity', 'leave',\n",
      "       'mental_health_consequence', 'phys_health_consequence', 'coworkers',\n",
      "       'supervisor', 'mental_health_interview', 'phys_health_interview',\n",
      "       'mental_vs_physical', 'obs_consequence', 'comments'],\n",
      "      dtype='object')\n"
     ]
    }
   ],
   "source": [
    "# Printing the column names\n",
    "print(df.columns)"
   ]
  },
  {
   "cell_type": "code",
   "execution_count": 100,
   "id": "62b818e2",
   "metadata": {},
   "outputs": [
    {
     "name": "stdout",
     "output_type": "stream",
     "text": [
      "<class 'pandas.core.frame.DataFrame'>\n",
      "RangeIndex: 1259 entries, 0 to 1258\n",
      "Data columns (total 27 columns):\n",
      " #   Column                     Non-Null Count  Dtype \n",
      "---  ------                     --------------  ----- \n",
      " 0   Timestamp                  1259 non-null   object\n",
      " 1   Age                        1259 non-null   int64 \n",
      " 2   Gender                     1259 non-null   object\n",
      " 3   Country                    1259 non-null   object\n",
      " 4   state                      744 non-null    object\n",
      " 5   self_employed              1241 non-null   object\n",
      " 6   family_history             1259 non-null   object\n",
      " 7   treatment                  1259 non-null   object\n",
      " 8   work_interfere             995 non-null    object\n",
      " 9   no_employees               1259 non-null   object\n",
      " 10  remote_work                1259 non-null   object\n",
      " 11  tech_company               1259 non-null   object\n",
      " 12  benefits                   1259 non-null   object\n",
      " 13  care_options               1259 non-null   object\n",
      " 14  wellness_program           1259 non-null   object\n",
      " 15  seek_help                  1259 non-null   object\n",
      " 16  anonymity                  1259 non-null   object\n",
      " 17  leave                      1259 non-null   object\n",
      " 18  mental_health_consequence  1259 non-null   object\n",
      " 19  phys_health_consequence    1259 non-null   object\n",
      " 20  coworkers                  1259 non-null   object\n",
      " 21  supervisor                 1259 non-null   object\n",
      " 22  mental_health_interview    1259 non-null   object\n",
      " 23  phys_health_interview      1259 non-null   object\n",
      " 24  mental_vs_physical         1259 non-null   object\n",
      " 25  obs_consequence            1259 non-null   object\n",
      " 26  comments                   164 non-null    object\n",
      "dtypes: int64(1), object(26)\n",
      "memory usage: 265.7+ KB\n"
     ]
    }
   ],
   "source": [
    "# Finding all the column names and their types\n",
    "df.info()"
   ]
  },
  {
   "cell_type": "code",
   "execution_count": 298,
   "id": "49ee35ac",
   "metadata": {},
   "outputs": [
    {
     "data": {
      "text/html": [
       "<div>\n",
       "<style scoped>\n",
       "    .dataframe tbody tr th:only-of-type {\n",
       "        vertical-align: middle;\n",
       "    }\n",
       "\n",
       "    .dataframe tbody tr th {\n",
       "        vertical-align: top;\n",
       "    }\n",
       "\n",
       "    .dataframe thead th {\n",
       "        text-align: right;\n",
       "    }\n",
       "</style>\n",
       "<table border=\"1\" class=\"dataframe\">\n",
       "  <thead>\n",
       "    <tr style=\"text-align: right;\">\n",
       "      <th></th>\n",
       "      <th>Age</th>\n",
       "    </tr>\n",
       "  </thead>\n",
       "  <tbody>\n",
       "    <tr>\n",
       "      <th>count</th>\n",
       "      <td>1251.000000</td>\n",
       "    </tr>\n",
       "    <tr>\n",
       "      <th>mean</th>\n",
       "      <td>32.076739</td>\n",
       "    </tr>\n",
       "    <tr>\n",
       "      <th>std</th>\n",
       "      <td>7.288272</td>\n",
       "    </tr>\n",
       "    <tr>\n",
       "      <th>min</th>\n",
       "      <td>18.000000</td>\n",
       "    </tr>\n",
       "    <tr>\n",
       "      <th>25%</th>\n",
       "      <td>27.000000</td>\n",
       "    </tr>\n",
       "    <tr>\n",
       "      <th>50%</th>\n",
       "      <td>31.000000</td>\n",
       "    </tr>\n",
       "    <tr>\n",
       "      <th>75%</th>\n",
       "      <td>36.000000</td>\n",
       "    </tr>\n",
       "    <tr>\n",
       "      <th>max</th>\n",
       "      <td>72.000000</td>\n",
       "    </tr>\n",
       "  </tbody>\n",
       "</table>\n",
       "</div>"
      ],
      "text/plain": [
       "               Age\n",
       "count  1251.000000\n",
       "mean     32.076739\n",
       "std       7.288272\n",
       "min      18.000000\n",
       "25%      27.000000\n",
       "50%      31.000000\n",
       "75%      36.000000\n",
       "max      72.000000"
      ]
     },
     "execution_count": 298,
     "metadata": {},
     "output_type": "execute_result"
    }
   ],
   "source": [
    "# Calculating the data statistics for the numerical data \n",
    "df.describe()"
   ]
  },
  {
   "cell_type": "code",
   "execution_count": 102,
   "id": "3d4cbcf6",
   "metadata": {},
   "outputs": [
    {
     "data": {
      "text/html": [
       "<div>\n",
       "<style scoped>\n",
       "    .dataframe tbody tr th:only-of-type {\n",
       "        vertical-align: middle;\n",
       "    }\n",
       "\n",
       "    .dataframe tbody tr th {\n",
       "        vertical-align: top;\n",
       "    }\n",
       "\n",
       "    .dataframe thead th {\n",
       "        text-align: right;\n",
       "    }\n",
       "</style>\n",
       "<table border=\"1\" class=\"dataframe\">\n",
       "  <thead>\n",
       "    <tr style=\"text-align: right;\">\n",
       "      <th></th>\n",
       "      <th>Timestamp</th>\n",
       "      <th>Gender</th>\n",
       "      <th>Country</th>\n",
       "      <th>state</th>\n",
       "      <th>self_employed</th>\n",
       "      <th>family_history</th>\n",
       "      <th>treatment</th>\n",
       "      <th>work_interfere</th>\n",
       "      <th>no_employees</th>\n",
       "      <th>remote_work</th>\n",
       "      <th>...</th>\n",
       "      <th>leave</th>\n",
       "      <th>mental_health_consequence</th>\n",
       "      <th>phys_health_consequence</th>\n",
       "      <th>coworkers</th>\n",
       "      <th>supervisor</th>\n",
       "      <th>mental_health_interview</th>\n",
       "      <th>phys_health_interview</th>\n",
       "      <th>mental_vs_physical</th>\n",
       "      <th>obs_consequence</th>\n",
       "      <th>comments</th>\n",
       "    </tr>\n",
       "  </thead>\n",
       "  <tbody>\n",
       "    <tr>\n",
       "      <th>count</th>\n",
       "      <td>1259</td>\n",
       "      <td>1259</td>\n",
       "      <td>1259</td>\n",
       "      <td>744</td>\n",
       "      <td>1241</td>\n",
       "      <td>1259</td>\n",
       "      <td>1259</td>\n",
       "      <td>995</td>\n",
       "      <td>1259</td>\n",
       "      <td>1259</td>\n",
       "      <td>...</td>\n",
       "      <td>1259</td>\n",
       "      <td>1259</td>\n",
       "      <td>1259</td>\n",
       "      <td>1259</td>\n",
       "      <td>1259</td>\n",
       "      <td>1259</td>\n",
       "      <td>1259</td>\n",
       "      <td>1259</td>\n",
       "      <td>1259</td>\n",
       "      <td>164</td>\n",
       "    </tr>\n",
       "    <tr>\n",
       "      <th>unique</th>\n",
       "      <td>1246</td>\n",
       "      <td>49</td>\n",
       "      <td>48</td>\n",
       "      <td>45</td>\n",
       "      <td>2</td>\n",
       "      <td>2</td>\n",
       "      <td>2</td>\n",
       "      <td>4</td>\n",
       "      <td>6</td>\n",
       "      <td>2</td>\n",
       "      <td>...</td>\n",
       "      <td>5</td>\n",
       "      <td>3</td>\n",
       "      <td>3</td>\n",
       "      <td>3</td>\n",
       "      <td>3</td>\n",
       "      <td>3</td>\n",
       "      <td>3</td>\n",
       "      <td>3</td>\n",
       "      <td>2</td>\n",
       "      <td>160</td>\n",
       "    </tr>\n",
       "    <tr>\n",
       "      <th>top</th>\n",
       "      <td>2014-08-27 12:44:51</td>\n",
       "      <td>Male</td>\n",
       "      <td>United States</td>\n",
       "      <td>CA</td>\n",
       "      <td>No</td>\n",
       "      <td>No</td>\n",
       "      <td>Yes</td>\n",
       "      <td>Sometimes</td>\n",
       "      <td>6-25</td>\n",
       "      <td>No</td>\n",
       "      <td>...</td>\n",
       "      <td>Don't know</td>\n",
       "      <td>No</td>\n",
       "      <td>No</td>\n",
       "      <td>Some of them</td>\n",
       "      <td>Yes</td>\n",
       "      <td>No</td>\n",
       "      <td>Maybe</td>\n",
       "      <td>Don't know</td>\n",
       "      <td>No</td>\n",
       "      <td>* Small family business - YMMV.</td>\n",
       "    </tr>\n",
       "    <tr>\n",
       "      <th>freq</th>\n",
       "      <td>2</td>\n",
       "      <td>615</td>\n",
       "      <td>751</td>\n",
       "      <td>138</td>\n",
       "      <td>1095</td>\n",
       "      <td>767</td>\n",
       "      <td>637</td>\n",
       "      <td>465</td>\n",
       "      <td>290</td>\n",
       "      <td>883</td>\n",
       "      <td>...</td>\n",
       "      <td>563</td>\n",
       "      <td>490</td>\n",
       "      <td>925</td>\n",
       "      <td>774</td>\n",
       "      <td>516</td>\n",
       "      <td>1008</td>\n",
       "      <td>557</td>\n",
       "      <td>576</td>\n",
       "      <td>1075</td>\n",
       "      <td>5</td>\n",
       "    </tr>\n",
       "  </tbody>\n",
       "</table>\n",
       "<p>4 rows × 26 columns</p>\n",
       "</div>"
      ],
      "text/plain": [
       "                  Timestamp Gender        Country state self_employed  \\\n",
       "count                  1259   1259           1259   744          1241   \n",
       "unique                 1246     49             48    45             2   \n",
       "top     2014-08-27 12:44:51   Male  United States    CA            No   \n",
       "freq                      2    615            751   138          1095   \n",
       "\n",
       "       family_history treatment work_interfere no_employees remote_work  ...  \\\n",
       "count            1259      1259            995         1259        1259  ...   \n",
       "unique              2         2              4            6           2  ...   \n",
       "top                No       Yes      Sometimes         6-25          No  ...   \n",
       "freq              767       637            465          290         883  ...   \n",
       "\n",
       "             leave mental_health_consequence phys_health_consequence  \\\n",
       "count         1259                      1259                    1259   \n",
       "unique           5                         3                       3   \n",
       "top     Don't know                        No                      No   \n",
       "freq           563                       490                     925   \n",
       "\n",
       "           coworkers supervisor mental_health_interview phys_health_interview  \\\n",
       "count           1259       1259                    1259                  1259   \n",
       "unique             3          3                       3                     3   \n",
       "top     Some of them        Yes                      No                 Maybe   \n",
       "freq             774        516                    1008                   557   \n",
       "\n",
       "       mental_vs_physical obs_consequence                         comments  \n",
       "count                1259            1259                              164  \n",
       "unique                  3               2                              160  \n",
       "top            Don't know              No  * Small family business - YMMV.  \n",
       "freq                  576            1075                                5  \n",
       "\n",
       "[4 rows x 26 columns]"
      ]
     },
     "execution_count": 102,
     "metadata": {},
     "output_type": "execute_result"
    }
   ],
   "source": [
    "# Finding the count, unique, mode and frequency of the object type data columns\n",
    "df.describe(include=[\"object\"])"
   ]
  },
  {
   "cell_type": "code",
   "execution_count": 103,
   "id": "91db9f6e",
   "metadata": {},
   "outputs": [],
   "source": [
    "# Finding missing values by column names and percentage\n",
    "df_missing = (df.isnull().sum() / len(df)).sort_values(ascending = False)"
   ]
  },
  {
   "cell_type": "code",
   "execution_count": 104,
   "id": "7bb9fab6",
   "metadata": {},
   "outputs": [
    {
     "data": {
      "text/plain": [
       "comments                     0.869738\n",
       "state                        0.409055\n",
       "work_interfere               0.209690\n",
       "self_employed                0.014297\n",
       "seek_help                    0.000000\n",
       "obs_consequence              0.000000\n",
       "mental_vs_physical           0.000000\n",
       "phys_health_interview        0.000000\n",
       "mental_health_interview      0.000000\n",
       "supervisor                   0.000000\n",
       "coworkers                    0.000000\n",
       "phys_health_consequence      0.000000\n",
       "mental_health_consequence    0.000000\n",
       "leave                        0.000000\n",
       "anonymity                    0.000000\n",
       "Timestamp                    0.000000\n",
       "wellness_program             0.000000\n",
       "Age                          0.000000\n",
       "benefits                     0.000000\n",
       "tech_company                 0.000000\n",
       "remote_work                  0.000000\n",
       "no_employees                 0.000000\n",
       "treatment                    0.000000\n",
       "family_history               0.000000\n",
       "Country                      0.000000\n",
       "Gender                       0.000000\n",
       "care_options                 0.000000\n",
       "dtype: float64"
      ]
     },
     "execution_count": 104,
     "metadata": {},
     "output_type": "execute_result"
    }
   ],
   "source": [
    "# Printing the missing values by column names and percentage\n",
    "df_missing"
   ]
  },
  {
   "cell_type": "code",
   "execution_count": 105,
   "id": "b5477583",
   "metadata": {},
   "outputs": [],
   "source": [
    "# Dropping columns which have too many values missing and also those which are not required\n",
    "df.drop(columns = 'comments', axis=1, inplace=True)\n",
    "df.drop(columns = 'Timestamp', axis=1, inplace=True)\n",
    "df.drop(columns = 'state', axis=1, inplace=True)"
   ]
  },
  {
   "cell_type": "code",
   "execution_count": 299,
   "id": "dfd3f459",
   "metadata": {
    "scrolled": false
   },
   "outputs": [
    {
     "name": "stdout",
     "output_type": "stream",
     "text": [
      "[37 44 32 31 33 35 39 42 23 29 36 27 46 41 34 30 40 38 50 24 18 28 26 22\n",
      " 19 25 45 21 43 56 60 54 55 48 20 57 58 47 62 51 65 49 53 61 72]\n",
      "['female' 'male' 'other']\n",
      "['north_america' 'europe' 'africa' 'oceania' 'asia' 'south_america']\n",
      "['No' 'Yes']\n",
      "['No' 'Yes']\n",
      "['Yes' 'No']\n",
      "['Often' 'Rarely' 'Never' 'Sometimes']\n",
      "['micro' 'large' 'small' 'medium']\n",
      "['No' 'Yes']\n",
      "['Yes' 'No']\n",
      "['Yes' \"Don't know\" 'No']\n",
      "['Not sure' 'No' 'Yes']\n",
      "['No' \"Don't know\" 'Yes']\n",
      "['Yes' \"Don't know\" 'No']\n",
      "['Yes' \"Don't know\" 'No']\n",
      "['Somewhat easy' \"Don't know\" 'Somewhat difficult' 'Very difficult'\n",
      " 'Very easy']\n",
      "['No' 'Maybe' 'Yes']\n",
      "['No' 'Yes' 'Maybe']\n",
      "['Some of them' 'No' 'Yes']\n",
      "['Yes' 'No' 'Some of them']\n",
      "['No' 'Yes' 'Maybe']\n",
      "['Maybe' 'No' 'Yes']\n",
      "['Yes' \"Don't know\" 'No']\n",
      "['No' 'Yes']\n"
     ]
    }
   ],
   "source": [
    "for col in df:\n",
    "    print(df[col].unique())"
   ]
  },
  {
   "cell_type": "code",
   "execution_count": 109,
   "id": "1fc96cea",
   "metadata": {},
   "outputs": [],
   "source": [
    "# Getting rid of the bizzare values in the column 'Age'\n",
    "age_values = [-29, 329, 99999999999, -1726, 5, 8, 11, -1]\n",
    "df = df[df.Age.isin(age_values) == False]"
   ]
  },
  {
   "cell_type": "code",
   "execution_count": 110,
   "id": "48306c5b",
   "metadata": {},
   "outputs": [
    {
     "name": "stderr",
     "output_type": "stream",
     "text": [
      "/var/folders/np/0xpsbkqs44j6ghl9bscds94w0000gn/T/ipykernel_12303/988449756.py:5: SettingWithCopyWarning: \n",
      "A value is trying to be set on a copy of a slice from a DataFrame.\n",
      "Try using .loc[row_indexer,col_indexer] = value instead\n",
      "\n",
      "See the caveats in the documentation: https://pandas.pydata.org/pandas-docs/stable/user_guide/indexing.html#returning-a-view-versus-a-copy\n",
      "  df['Gender'] = df['Gender'].replace(female, 'female')\n",
      "/var/folders/np/0xpsbkqs44j6ghl9bscds94w0000gn/T/ipykernel_12303/988449756.py:6: SettingWithCopyWarning: \n",
      "A value is trying to be set on a copy of a slice from a DataFrame.\n",
      "Try using .loc[row_indexer,col_indexer] = value instead\n",
      "\n",
      "See the caveats in the documentation: https://pandas.pydata.org/pandas-docs/stable/user_guide/indexing.html#returning-a-view-versus-a-copy\n",
      "  df['Gender'] = df['Gender'].replace(male, 'male')\n",
      "/var/folders/np/0xpsbkqs44j6ghl9bscds94w0000gn/T/ipykernel_12303/988449756.py:7: SettingWithCopyWarning: \n",
      "A value is trying to be set on a copy of a slice from a DataFrame.\n",
      "Try using .loc[row_indexer,col_indexer] = value instead\n",
      "\n",
      "See the caveats in the documentation: https://pandas.pydata.org/pandas-docs/stable/user_guide/indexing.html#returning-a-view-versus-a-copy\n",
      "  df['Gender'] = df['Gender'].replace(other, 'other')\n"
     ]
    }
   ],
   "source": [
    "# Making the column 'Gender' consistent by grouping  values in male, female and others\n",
    "female = ['Female','female', 'Trans-female','Cis Female', 'F','Woman','f', 'Femake','woman', 'Female ', 'cis-female/femme','Trans woman', 'Female (trans)','Female (cis)', 'femail']\n",
    "male = ['M','Male','male', 'm' ,'Male-ish' , 'maile', 'something kinda male?', 'Cis Male', 'Mal', 'Male (CIS)','Make', 'Guy (-ish) ^_^', 'male leaning androgynous', 'Male ', 'Man', 'msle', 'Mail', 'cis male', 'Malr' , 'Cis Man', 'ostensibly male, unsure what that really means']\n",
    "other = ['Trans-female', 'queer/she/they' , 'non-binary', 'Nah', 'All', 'Enby' ,'fluid', 'Genderqueer', 'Androgyne', 'Agender','Neuter', 'queer', 'A little about you', 'p']\n",
    "\n",
    "df['Gender'] = df['Gender'].replace(female, 'female')\n",
    "df['Gender'] = df['Gender'].replace(male, 'male')\n",
    "df['Gender'] = df['Gender'].replace(other, 'other')"
   ]
  },
  {
   "cell_type": "code",
   "execution_count": 112,
   "id": "367ce185",
   "metadata": {},
   "outputs": [
    {
     "name": "stderr",
     "output_type": "stream",
     "text": [
      "/var/folders/np/0xpsbkqs44j6ghl9bscds94w0000gn/T/ipykernel_12303/2929611203.py:6: SettingWithCopyWarning: \n",
      "A value is trying to be set on a copy of a slice from a DataFrame.\n",
      "Try using .loc[row_indexer,col_indexer] = value instead\n",
      "\n",
      "See the caveats in the documentation: https://pandas.pydata.org/pandas-docs/stable/user_guide/indexing.html#returning-a-view-versus-a-copy\n",
      "  df['no_employees'] = df['no_employees'].replace(micro, 'micro')\n",
      "/var/folders/np/0xpsbkqs44j6ghl9bscds94w0000gn/T/ipykernel_12303/2929611203.py:7: SettingWithCopyWarning: \n",
      "A value is trying to be set on a copy of a slice from a DataFrame.\n",
      "Try using .loc[row_indexer,col_indexer] = value instead\n",
      "\n",
      "See the caveats in the documentation: https://pandas.pydata.org/pandas-docs/stable/user_guide/indexing.html#returning-a-view-versus-a-copy\n",
      "  df['no_employees'] = df['no_employees'].replace(small, 'small')\n",
      "/var/folders/np/0xpsbkqs44j6ghl9bscds94w0000gn/T/ipykernel_12303/2929611203.py:8: SettingWithCopyWarning: \n",
      "A value is trying to be set on a copy of a slice from a DataFrame.\n",
      "Try using .loc[row_indexer,col_indexer] = value instead\n",
      "\n",
      "See the caveats in the documentation: https://pandas.pydata.org/pandas-docs/stable/user_guide/indexing.html#returning-a-view-versus-a-copy\n",
      "  df['no_employees'] = df['no_employees'].replace(medium, 'medium')\n",
      "/var/folders/np/0xpsbkqs44j6ghl9bscds94w0000gn/T/ipykernel_12303/2929611203.py:9: SettingWithCopyWarning: \n",
      "A value is trying to be set on a copy of a slice from a DataFrame.\n",
      "Try using .loc[row_indexer,col_indexer] = value instead\n",
      "\n",
      "See the caveats in the documentation: https://pandas.pydata.org/pandas-docs/stable/user_guide/indexing.html#returning-a-view-versus-a-copy\n",
      "  df['no_employees'] = df['no_employees'].replace(large, 'large')\n"
     ]
    }
   ],
   "source": [
    "# Grouping the values of \n",
    "micro = ['6-25', '26-100', '1-5']\n",
    "small = ['100-500']\n",
    "medium = ['500-1000']\n",
    "large = ['More than 1000']\n",
    "\n",
    "df['no_employees'] = df['no_employees'].replace(micro, 'micro')\n",
    "df['no_employees'] = df['no_employees'].replace(small, 'small')\n",
    "df['no_employees'] = df['no_employees'].replace(medium, 'medium')\n",
    "df['no_employees'] = df['no_employees'].replace(large, 'large')"
   ]
  },
  {
   "cell_type": "code",
   "execution_count": 114,
   "id": "fd4a37f5",
   "metadata": {},
   "outputs": [
    {
     "name": "stderr",
     "output_type": "stream",
     "text": [
      "/Users/ayushe/opt/anaconda3/lib/python3.9/site-packages/pandas/core/frame.py:5039: SettingWithCopyWarning: \n",
      "A value is trying to be set on a copy of a slice from a DataFrame\n",
      "\n",
      "See the caveats in the documentation: https://pandas.pydata.org/pandas-docs/stable/user_guide/indexing.html#returning-a-view-versus-a-copy\n",
      "  return super().rename(\n"
     ]
    }
   ],
   "source": [
    "# Renaming the column 'no_employees' to 'company_size'\n",
    "df.rename(columns = {'no_employees':'company_size'}, inplace = True)"
   ]
  },
  {
   "cell_type": "code",
   "execution_count": 117,
   "id": "fdae0d89",
   "metadata": {},
   "outputs": [
    {
     "name": "stderr",
     "output_type": "stream",
     "text": [
      "/var/folders/np/0xpsbkqs44j6ghl9bscds94w0000gn/T/ipykernel_12303/2002725743.py:2: SettingWithCopyWarning: \n",
      "A value is trying to be set on a copy of a slice from a DataFrame.\n",
      "Try using .loc[row_indexer,col_indexer] = value instead\n",
      "\n",
      "See the caveats in the documentation: https://pandas.pydata.org/pandas-docs/stable/user_guide/indexing.html#returning-a-view-versus-a-copy\n",
      "  df['self_employed'] = df['self_employed'].replace(np.nan, 'No')\n"
     ]
    }
   ],
   "source": [
    "# Replacing the NULL values in the column 'self_employed' to 'No'\n",
    "df['self_employed'] = df['self_employed'].replace(np.nan, 'No')"
   ]
  },
  {
   "cell_type": "code",
   "execution_count": 123,
   "id": "5186d417",
   "metadata": {},
   "outputs": [
    {
     "name": "stderr",
     "output_type": "stream",
     "text": [
      "/var/folders/np/0xpsbkqs44j6ghl9bscds94w0000gn/T/ipykernel_12303/1485453703.py:1: SettingWithCopyWarning: \n",
      "A value is trying to be set on a copy of a slice from a DataFrame.\n",
      "Try using .loc[row_indexer,col_indexer] = value instead\n",
      "\n",
      "See the caveats in the documentation: https://pandas.pydata.org/pandas-docs/stable/user_guide/indexing.html#returning-a-view-versus-a-copy\n",
      "  df['work_interfere'] = df['work_interfere'].replace(np.nan, 'Never')\n"
     ]
    }
   ],
   "source": [
    "# Replacing the NULL values in the column 'work_interefere' to 'Never'\n",
    "df['work_interfere'] = df['work_interfere'].replace(np.nan, 'Never')"
   ]
  },
  {
   "cell_type": "code",
   "execution_count": 126,
   "id": "3128f745",
   "metadata": {},
   "outputs": [
    {
     "data": {
      "text/plain": [
       "Age                          0.0\n",
       "Gender                       0.0\n",
       "mental_vs_physical           0.0\n",
       "phys_health_interview        0.0\n",
       "mental_health_interview      0.0\n",
       "supervisor                   0.0\n",
       "coworkers                    0.0\n",
       "phys_health_consequence      0.0\n",
       "mental_health_consequence    0.0\n",
       "leave                        0.0\n",
       "anonymity                    0.0\n",
       "seek_help                    0.0\n",
       "wellness_program             0.0\n",
       "care_options                 0.0\n",
       "benefits                     0.0\n",
       "tech_company                 0.0\n",
       "remote_work                  0.0\n",
       "company_size                 0.0\n",
       "work_interfere               0.0\n",
       "treatment                    0.0\n",
       "family_history               0.0\n",
       "self_employed                0.0\n",
       "Country                      0.0\n",
       "obs_consequence              0.0\n",
       "dtype: float64"
      ]
     },
     "execution_count": 126,
     "metadata": {},
     "output_type": "execute_result"
    }
   ],
   "source": [
    "# Finding the missing values by percentage in the dataframe\n",
    "df_missing = (df.isnull().sum() / len(df)).sort_values(ascending = False)\n",
    "df_missing"
   ]
  },
  {
   "cell_type": "code",
   "execution_count": 127,
   "id": "74bd4530",
   "metadata": {},
   "outputs": [],
   "source": [
    "# Clubbing the countries together into different Continents\n",
    "africa = ['Bulgaria','Zimbabwe','Nigeria']\n",
    "asia = ['India','Russia','South Africa','Singapore','Israel','Japan','Thailand','Georgia','China','Philippines']\n",
    "europe = ['United Kingdom','Portugal','Netherlands','Switzerland','Poland','Germany','Slovenia','Austria','Ireland','Italy','Sweden','Latvia','Romania','Belgium','Spain','Finland','Bosnia and Herzegovina','Hungary','Croatia','Norway','Denmark','Greece','Czech Republic']\n",
    "north_america = ['United States','Canada','France','Mexico','Costa Rica','Bahamas, The','Moldova']\n",
    "south_america = ['Brazil','Colombia','Uruguay']\n",
    "oceania = ['Australia','New Zealand']"
   ]
  },
  {
   "cell_type": "code",
   "execution_count": 120,
   "id": "1373f97a",
   "metadata": {},
   "outputs": [
    {
     "name": "stderr",
     "output_type": "stream",
     "text": [
      "/var/folders/np/0xpsbkqs44j6ghl9bscds94w0000gn/T/ipykernel_12303/547132467.py:1: SettingWithCopyWarning: \n",
      "A value is trying to be set on a copy of a slice from a DataFrame.\n",
      "Try using .loc[row_indexer,col_indexer] = value instead\n",
      "\n",
      "See the caveats in the documentation: https://pandas.pydata.org/pandas-docs/stable/user_guide/indexing.html#returning-a-view-versus-a-copy\n",
      "  df['Country'] = df['Country'].replace(africa, 'africa')\n",
      "/var/folders/np/0xpsbkqs44j6ghl9bscds94w0000gn/T/ipykernel_12303/547132467.py:2: SettingWithCopyWarning: \n",
      "A value is trying to be set on a copy of a slice from a DataFrame.\n",
      "Try using .loc[row_indexer,col_indexer] = value instead\n",
      "\n",
      "See the caveats in the documentation: https://pandas.pydata.org/pandas-docs/stable/user_guide/indexing.html#returning-a-view-versus-a-copy\n",
      "  df['Country'] = df['Country'].replace(asia, 'asia')\n",
      "/var/folders/np/0xpsbkqs44j6ghl9bscds94w0000gn/T/ipykernel_12303/547132467.py:3: SettingWithCopyWarning: \n",
      "A value is trying to be set on a copy of a slice from a DataFrame.\n",
      "Try using .loc[row_indexer,col_indexer] = value instead\n",
      "\n",
      "See the caveats in the documentation: https://pandas.pydata.org/pandas-docs/stable/user_guide/indexing.html#returning-a-view-versus-a-copy\n",
      "  df['Country'] = df['Country'].replace(europe, 'europe')\n",
      "/var/folders/np/0xpsbkqs44j6ghl9bscds94w0000gn/T/ipykernel_12303/547132467.py:4: SettingWithCopyWarning: \n",
      "A value is trying to be set on a copy of a slice from a DataFrame.\n",
      "Try using .loc[row_indexer,col_indexer] = value instead\n",
      "\n",
      "See the caveats in the documentation: https://pandas.pydata.org/pandas-docs/stable/user_guide/indexing.html#returning-a-view-versus-a-copy\n",
      "  df['Country'] = df['Country'].replace(north_america, 'north_america')\n",
      "/var/folders/np/0xpsbkqs44j6ghl9bscds94w0000gn/T/ipykernel_12303/547132467.py:5: SettingWithCopyWarning: \n",
      "A value is trying to be set on a copy of a slice from a DataFrame.\n",
      "Try using .loc[row_indexer,col_indexer] = value instead\n",
      "\n",
      "See the caveats in the documentation: https://pandas.pydata.org/pandas-docs/stable/user_guide/indexing.html#returning-a-view-versus-a-copy\n",
      "  df['Country'] = df['Country'].replace(south_america, 'south_america')\n",
      "/var/folders/np/0xpsbkqs44j6ghl9bscds94w0000gn/T/ipykernel_12303/547132467.py:6: SettingWithCopyWarning: \n",
      "A value is trying to be set on a copy of a slice from a DataFrame.\n",
      "Try using .loc[row_indexer,col_indexer] = value instead\n",
      "\n",
      "See the caveats in the documentation: https://pandas.pydata.org/pandas-docs/stable/user_guide/indexing.html#returning-a-view-versus-a-copy\n",
      "  df['Country'] = df['Country'].replace(oceania, 'oceania')\n"
     ]
    }
   ],
   "source": [
    "# Clubbing the countries together into different Continents\n",
    "df['Country'] = df['Country'].replace(africa, 'africa')\n",
    "df['Country'] = df['Country'].replace(asia, 'asia')\n",
    "df['Country'] = df['Country'].replace(europe, 'europe')\n",
    "df['Country'] = df['Country'].replace(north_america, 'north_america')\n",
    "df['Country'] = df['Country'].replace(south_america, 'south_america')\n",
    "df['Country'] = df['Country'].replace(oceania, 'oceania')"
   ]
  },
  {
   "cell_type": "code",
   "execution_count": 129,
   "id": "d9aae879",
   "metadata": {},
   "outputs": [
    {
     "name": "stdout",
     "output_type": "stream",
     "text": [
      "<class 'pandas.core.frame.DataFrame'>\n",
      "Int64Index: 1251 entries, 0 to 1258\n",
      "Data columns (total 24 columns):\n",
      " #   Column                     Non-Null Count  Dtype \n",
      "---  ------                     --------------  ----- \n",
      " 0   Age                        1251 non-null   int64 \n",
      " 1   Gender                     1251 non-null   object\n",
      " 2   Country                    1251 non-null   object\n",
      " 3   self_employed              1251 non-null   object\n",
      " 4   family_history             1251 non-null   object\n",
      " 5   treatment                  1251 non-null   object\n",
      " 6   work_interfere             1251 non-null   object\n",
      " 7   company_size               1251 non-null   object\n",
      " 8   remote_work                1251 non-null   object\n",
      " 9   tech_company               1251 non-null   object\n",
      " 10  benefits                   1251 non-null   object\n",
      " 11  care_options               1251 non-null   object\n",
      " 12  wellness_program           1251 non-null   object\n",
      " 13  seek_help                  1251 non-null   object\n",
      " 14  anonymity                  1251 non-null   object\n",
      " 15  leave                      1251 non-null   object\n",
      " 16  mental_health_consequence  1251 non-null   object\n",
      " 17  phys_health_consequence    1251 non-null   object\n",
      " 18  coworkers                  1251 non-null   object\n",
      " 19  supervisor                 1251 non-null   object\n",
      " 20  mental_health_interview    1251 non-null   object\n",
      " 21  phys_health_interview      1251 non-null   object\n",
      " 22  mental_vs_physical         1251 non-null   object\n",
      " 23  obs_consequence            1251 non-null   object\n",
      "dtypes: int64(1), object(23)\n",
      "memory usage: 244.3+ KB\n"
     ]
    }
   ],
   "source": [
    "df.info()"
   ]
  },
  {
   "cell_type": "code",
   "execution_count": 254,
   "id": "424aceb0",
   "metadata": {},
   "outputs": [],
   "source": [
    "# for target and ref = self employed\n",
    "dimension_attributes = ['Gender',\n",
    " 'Country',\n",
    " 'family_history',\n",
    " 'treatment',\n",
    " 'work_interfere',\n",
    " 'company_size',\n",
    " 'remote_work',\n",
    " 'tech_company',\n",
    " 'benefits',\n",
    " 'care_options',\n",
    " 'wellness_program',\n",
    " 'seek_help',\n",
    " 'anonymity',\n",
    " 'leave',\n",
    " 'mental_health_consequence',\n",
    " 'phys_health_consequence',\n",
    " 'coworkers',\n",
    " 'supervisor',\n",
    " 'mental_health_interview',\n",
    " 'phys_health_interview',\n",
    " 'mental_vs_physical',\n",
    " 'obs_consequence']\n",
    "\n",
    "# for target and ref = family_history\n",
    "dimension_attributes_2 = ['Gender',\n",
    " 'Country',\n",
    " 'self_employed',\n",
    " 'treatment',\n",
    " 'work_interfere',\n",
    " 'company_size',\n",
    " 'remote_work',\n",
    " 'tech_company',\n",
    " 'benefits',\n",
    " 'care_options',\n",
    " 'wellness_program',\n",
    " 'seek_help',\n",
    " 'anonymity',\n",
    " 'leave',\n",
    " 'mental_health_consequence',\n",
    " 'phys_health_consequence',\n",
    " 'coworkers',\n",
    " 'supervisor',\n",
    " 'mental_health_interview',\n",
    " 'phys_health_interview',\n",
    " 'mental_vs_physical',\n",
    " 'obs_consequence']\n",
    "\n",
    "# for target and ref = treatment\n",
    "dimension_attributes_3 = ['Gender',\n",
    " 'Country',\n",
    "'self_employed',\n",
    " 'family_history',\n",
    " 'work_interfere',\n",
    " 'company_size',\n",
    " 'remote_work',\n",
    " 'tech_company',\n",
    " 'benefits',\n",
    " 'care_options',\n",
    " 'wellness_program',\n",
    " 'seek_help',\n",
    " 'anonymity',\n",
    " 'leave',\n",
    " 'mental_health_consequence',\n",
    " 'phys_health_consequence',\n",
    " 'coworkers',\n",
    " 'supervisor',\n",
    " 'mental_health_interview',\n",
    " 'phys_health_interview',\n",
    " 'mental_vs_physical',\n",
    " 'obs_consequence']\n",
    "\n",
    "# for target and ref = remote_work\n",
    "dimension_attributes_4 = ['Gender',\n",
    " 'Country',\n",
    " 'self_employed',\n",
    " 'family_history',\n",
    " 'treatment',\n",
    " 'work_interfere',\n",
    " 'company_size',\n",
    " 'tech_company',\n",
    " 'benefits',\n",
    " 'care_options',\n",
    " 'wellness_program',\n",
    " 'seek_help',\n",
    " 'anonymity',\n",
    " 'leave',\n",
    " 'mental_health_consequence',\n",
    " 'phys_health_consequence',\n",
    " 'coworkers',\n",
    " 'supervisor',\n",
    " 'mental_health_interview',\n",
    " 'phys_health_interview',\n",
    " 'mental_vs_physical',\n",
    " 'obs_consequence']\n",
    "\n",
    "measure_attributes = ['Age']\n",
    "aggregate_functions = ['avg', 'max', 'min', 'count']"
   ]
  },
  {
   "cell_type": "code",
   "execution_count": 258,
   "id": "27f141d7",
   "metadata": {},
   "outputs": [],
   "source": [
    "def generate_views():\n",
    "    aggregate_views = []\n",
    "    for a in dimension_attributes:\n",
    "        for m in measure_attributes:\n",
    "            for f in aggregate_functions:\n",
    "                aggregate_views.append((a,m,f))\n",
    "    return aggregate_views\n",
    "\n",
    "def generate_views_2():\n",
    "    aggregate_views_2 = []\n",
    "    for a in dimension_attributes_2:\n",
    "        for m in measure_attributes:\n",
    "            for f in aggregate_functions:\n",
    "                aggregate_views_2.append((a,m,f))\n",
    "    return aggregate_views_2\n",
    "\n",
    "def generate_views_3():\n",
    "    aggregate_views_3 = []\n",
    "    for a in dimension_attributes_3:\n",
    "        for m in measure_attributes:\n",
    "            for f in aggregate_functions:\n",
    "                aggregate_views_3.append((a,m,f))\n",
    "    return aggregate_views_3\n",
    "\n",
    "def generate_views_4():\n",
    "    aggregate_views_4 = []\n",
    "    for a in dimension_attributes_4:\n",
    "        for m in measure_attributes:\n",
    "            for f in aggregate_functions:\n",
    "                aggregate_views_4.append((a,m,f))\n",
    "    return aggregate_views_4\n",
    "\n",
    "def normalize(qResult1, qResult2):\n",
    "    \n",
    "    dict1 = {}\n",
    "    dict2 = {}\n",
    "    \n",
    "    for i in qResult1:\n",
    "        \n",
    "        dict1[i] = float(qResult1[i])\n",
    "        if i not in qResult2:\n",
    "            dict2[i] = 1e-10\n",
    "        else:\n",
    "            dict2[i] = float(qResult2[i])\n",
    "        \n",
    "    for i in qResult2:\n",
    "        \n",
    "        if i not in dict1:\n",
    "            dict1[i] = 1e-10\n",
    "        \n",
    "        if i not in dict2:\n",
    "            dict2[i] = float(qResult2[i])\n",
    "        \n",
    "    for i in dict1:\n",
    "        if(dict1[i] == 0):\n",
    "            dict1[i] = 1e-10\n",
    "    \n",
    "    for i in dict2:\n",
    "        if(dict2[i] == 0):\n",
    "            dict2[i] = 1e-10\n",
    "\n",
    "        \n",
    "    if sum(dict1.values()) != 0:\n",
    "        factor=1.0/sum(dict1.values())\n",
    "        for k in dict1:\n",
    "            dict1[k] = dict1[k]*factor\n",
    "            \n",
    "    if sum(dict2.values()) != 0:   \n",
    "        factor=1.0/sum(dict2.values())\n",
    "        for k in dict2:\n",
    "            dict2[k] = dict2[k]*factor\n",
    "    \n",
    "    return dict1, dict2\n",
    "    \n",
    "def calc_utility(res1, res2):\n",
    "    \n",
    "    temp1 = []\n",
    "    temp2 = []\n",
    "    \n",
    "    for i in res1:\n",
    "        temp1.append(res1[i])\n",
    "    \n",
    "    for i in res2:\n",
    "        temp2.append(res2[i])\n",
    "        \n",
    "    return kl.entropy(temp1, temp2)\n",
    "    \n",
    "\n",
    "def execute(target_view, reference_view):\n",
    "    \n",
    "    cur1 = conn.cursor()\n",
    "    cur2 = conn.cursor()\n",
    "    \n",
    "    cur1.execute(target_view)\n",
    "    cur2.execute(reference_view)\n",
    "    \n",
    "    res1, res2 = normalize(dict(cur1.fetchall()), dict(cur2.fetchall()))\n",
    "    \n",
    "    return calc_utility(res1, res2)\n",
    "    \n",
    "    \n",
    "def execute_queries(aggregate_views, table1, table2):\n",
    "    results = []\n",
    "    for a,m,f in aggregate_views:\n",
    "        target_view = 'select ' + a +', ' + f + '(' + m + ')' + ' from '+ table1 +' group by ' + a + ';'\n",
    "        reference_view = 'select ' + a +',' + f + '(' + m + ')' + 'from '+ table2 +' group by ' + a + ';'\n",
    "        utility_measure = execute(target_view, reference_view)\n",
    "        if(math.isnan(utility_measure) or math.isinf(utility_measure)):\n",
    "            continue\n",
    "        results.append([(a,m,f), utility_measure])\n",
    "    return results\n",
    "\n",
    "\n",
    "def get_topK(results, k):\n",
    "    results.sort(key = lambda x: x[1], reverse = True)\n",
    "    return results[0:k]"
   ]
  },
  {
   "cell_type": "code",
   "execution_count": 259,
   "id": "4ca987ac",
   "metadata": {},
   "outputs": [
    {
     "name": "stdout",
     "output_type": "stream",
     "text": [
      "[[('family_history', 'Age', 'count'), 3.231602470974305e-05]]\n"
     ]
    }
   ],
   "source": [
    "test = [('family_history','Age','count')]\n",
    "print(execute_queries(test,'self_employed_people', 'not_self_employed_people' ))"
   ]
  },
  {
   "cell_type": "code",
   "execution_count": 328,
   "id": "52ce891f",
   "metadata": {},
   "outputs": [
    {
     "name": "stdout",
     "output_type": "stream",
     "text": [
      "[[('remote_work', 'Age', 'count'), 0.45180686315612345], [('company_size', 'Age', 'count'), 0.3976369200408188], [('company_size', 'Age', 'max'), 0.3872428726404401], [('benefits', 'Age', 'count'), 0.37885206325491383], [('company_size', 'Age', 'avg'), 0.3065237200878724]]\n"
     ]
    }
   ],
   "source": [
    "k = 5\n",
    "aggregate_views = generate_views()\n",
    "results = execute_queries(aggregate_views, 'self_employed_people', 'not_self_employed_people')\n",
    "\n",
    "topK_results = get_topK(results, k)\n",
    "print(topK_results)"
   ]
  },
  {
   "cell_type": "code",
   "execution_count": 285,
   "id": "1faa9ae5",
   "metadata": {},
   "outputs": [],
   "source": [
    "import pandas as pd\n",
    "\n",
    "def visualize_query(a, m, f, table1, table2):\n",
    "    \n",
    "    target_view = 'select ' + a +', ' + f + '(' + m + ')' + ' from ' + table1 + ' group by ' + a + ';'\n",
    "    reference_view = 'select ' + a +', ' + f + '(' + m + ')' + ' from ' + table2 + ' group by ' + a + ';'\n",
    "    \n",
    "    cur1 = conn.cursor()\n",
    "    cur2 = conn.cursor()\n",
    "    \n",
    "    cur1.execute(target_view)\n",
    "    cur2.execute(reference_view)\n",
    "\n",
    "    df1 = pd.DataFrame(cur1.fetchall(), columns = [\"col1\",\"col2\"])\n",
    "    df2 = pd.DataFrame(cur2.fetchall(), columns = [\"col1\", \"col2\"])\n",
    "    joined_df = pd.DataFrame.merge(df1, df2, how = 'outer', on = 'col1', suffixes = ['_self_employed', '_not_self_employed'])\n",
    "    joined_df.fillna(0, inplace = True)\n",
    "    \n",
    "    df_bar = pd.DataFrame({'self_employed': list(joined_df[\"col2_self_employed\"]), 'not_self_employed':list(joined_df[\"col2_not_self_employed\"])}, index = list(joined_df[\"col1\"]))\n",
    "   \n",
    "    df_bar['self_employed']=df_bar['self_employed'].astype(float)\n",
    "    df_bar['not_self_employed']=df_bar['not_self_employed'].astype(float)\n",
    "    ax = df_bar.plot.bar(xlabel = a, ylabel = f + '('+ m +')',rot=60, color = ['indianred', 'thistle'], edgecolor='black')\n",
    "    \n",
    "def visualize_query_2(a, m, f, table1, table2):\n",
    "    \n",
    "    target_view = 'select ' + a +', ' + f + '(' + m + ')' + ' from ' + table1 + ' group by ' + a + ';'\n",
    "    reference_view = 'select ' + a +', ' + f + '(' + m + ')' + ' from ' + table2 + ' group by ' + a + ';'\n",
    "    \n",
    "    cur1 = conn.cursor()\n",
    "    cur2 = conn.cursor()\n",
    "    \n",
    "    cur1.execute(target_view)\n",
    "    cur2.execute(reference_view)\n",
    "\n",
    "    df1 = pd.DataFrame(cur1.fetchall(), columns = [\"col1\",\"col2\"])\n",
    "    df2 = pd.DataFrame(cur2.fetchall(), columns = [\"col1\", \"col2\"])\n",
    "    joined_df = pd.DataFrame.merge(df1, df2, how = 'outer', on = 'col1', suffixes = ['_family_history', '_no_family_history'])\n",
    "    joined_df.fillna(0, inplace = True)\n",
    "    \n",
    "    df_bar = pd.DataFrame({'family_history': list(joined_df[\"col2_family_history\"]), 'no_family_history':list(joined_df[\"col2_no_family_history\"])}, index = list(joined_df[\"col1\"]))\n",
    "   \n",
    "    df_bar['family_history']=df_bar['family_history'].astype(float)\n",
    "    df_bar['no_family_history']=df_bar['no_family_history'].astype(float)\n",
    "    ax = df_bar.plot.bar(xlabel = a, ylabel = f + '('+ m +')',rot=60, color = ['indianred', 'thistle'], edgecolor='black')\n",
    "\n",
    "def visualize_query_3(a, m, f, table1, table2):\n",
    "    \n",
    "    target_view = 'select ' + a +', ' + f + '(' + m + ')' + ' from ' + table1 + ' group by ' + a + ';'\n",
    "    reference_view = 'select ' + a +', ' + f + '(' + m + ')' + ' from ' + table2 + ' group by ' + a + ';'\n",
    "    \n",
    "    cur1 = conn.cursor()\n",
    "    cur2 = conn.cursor()\n",
    "    \n",
    "    cur1.execute(target_view)\n",
    "    cur2.execute(reference_view)\n",
    "\n",
    "    df1 = pd.DataFrame(cur1.fetchall(), columns = [\"col1\",\"col2\"])\n",
    "    df2 = pd.DataFrame(cur2.fetchall(), columns = [\"col1\", \"col2\"])\n",
    "    joined_df = pd.DataFrame.merge(df1, df2, how = 'outer', on = 'col1', suffixes = ['_treatment', '_no_treatment'])\n",
    "    joined_df.fillna(0, inplace = True)\n",
    "    \n",
    "    df_bar = pd.DataFrame({'treatment': list(joined_df[\"col2_treatment\"]), 'no_treatment':list(joined_df[\"col2_no_treatment\"])}, index = list(joined_df[\"col1\"]))\n",
    "   \n",
    "    df_bar['treatment']=df_bar['treatment'].astype(float)\n",
    "    df_bar['no_treatment']=df_bar['no_treatment'].astype(float)\n",
    "    ax = df_bar.plot.bar(xlabel = a, ylabel = f + '('+ m +')',rot=60, color = ['indianred', 'thistle'], edgecolor='black')\n",
    "\n",
    "def visualize_query_4(a, m, f, table1, table2):\n",
    "    \n",
    "    target_view = 'select ' + a +', ' + f + '(' + m + ')' + ' from ' + table1 + ' group by ' + a + ';'\n",
    "    reference_view = 'select ' + a +', ' + f + '(' + m + ')' + ' from ' + table2 + ' group by ' + a + ';'\n",
    "    \n",
    "    cur1 = conn.cursor()\n",
    "    cur2 = conn.cursor()\n",
    "    \n",
    "    cur1.execute(target_view)\n",
    "    cur2.execute(reference_view)\n",
    "\n",
    "    df1 = pd.DataFrame(cur1.fetchall(), columns = [\"col1\",\"col2\"])\n",
    "    df2 = pd.DataFrame(cur2.fetchall(), columns = [\"col1\", \"col2\"])\n",
    "    joined_df = pd.DataFrame.merge(df1, df2, how = 'outer', on = 'col1', suffixes = ['_remote_work', '_no_remote_work'])\n",
    "    joined_df.fillna(0, inplace = True)\n",
    "    \n",
    "    df_bar = pd.DataFrame({'remote_work': list(joined_df[\"col2_remote_work\"]), 'no_remote_work':list(joined_df[\"col2_no_remote_work\"])}, index = list(joined_df[\"col1\"]))\n",
    "   \n",
    "    df_bar['remote_work']=df_bar['remote_work'].astype(float)\n",
    "    df_bar['no_remote_work']=df_bar['no_remote_work'].astype(float)\n",
    "    ax = df_bar.plot.bar(xlabel = a, ylabel = f + '('+ m +')',rot=60, color = ['indianred', 'thistle'], edgecolor='black')\n",
    "\n",
    "   "
   ]
  },
  {
   "cell_type": "code",
   "execution_count": 286,
   "id": "9e257d97",
   "metadata": {},
   "outputs": [
    {
     "data": {
      "image/png": "[encoded data removed]",
      "text/plain": [
       "<Figure size 432x288 with 1 Axes>"
      ]
     },
     "metadata": {
      "needs_background": "light"
     },
     "output_type": "display_data"
    }
   ],
   "source": [
    "visualize_query('family_history','Age','count', 'self_employed_people', 'not_self_employed_people')"
   ]
  },
  {
   "cell_type": "code",
   "execution_count": 287,
   "id": "e9c4d04e",
   "metadata": {
    "scrolled": false
   },
   "outputs": [
    {
     "data": {
      "image/png": "[encoded data removed]",
      "text/plain": [
       "<Figure size 432x288 with 1 Axes>"
      ]
     },
     "metadata": {
      "needs_background": "light"
     },
     "output_type": "display_data"
    },
    {
     "data": {
      "image/png": "[encoded data removed]",
      "text/plain": [
       "<Figure size 432x288 with 1 Axes>"
      ]
     },
     "metadata": {
      "needs_background": "light"
     },
     "output_type": "display_data"
    },
    {
     "data": {
      "image/png": "[encoded data removed]",
      "text/plain": [
       "<Figure size 432x288 with 1 Axes>"
      ]
     },
     "metadata": {
      "needs_background": "light"
     },
     "output_type": "display_data"
    },
    {
     "data": {
      "image/png": "[encoded data removed]",
      "text/plain": [
       "<Figure size 432x288 with 1 Axes>"
      ]
     },
     "metadata": {
      "needs_background": "light"
     },
     "output_type": "display_data"
    },
    {
     "data": {
      "image/png": "[encoded data removed]",
      "text/plain": [
       "<Figure size 432x288 with 1 Axes>"
      ]
     },
     "metadata": {
      "needs_background": "light"
     },
     "output_type": "display_data"
    }
   ],
   "source": [
    "for row in topK_results:\n",
    "    visualize_query(row[0][0], row[0][1], row[0][2], 'self_employed_people', 'not_self_employed_people')"
   ]
  },
  {
   "cell_type": "code",
   "execution_count": 301,
   "id": "4e8d9f7d",
   "metadata": {
    "scrolled": false
   },
   "outputs": [
    {
     "name": "stdout",
     "output_type": "stream",
     "text": [
      "[[('treatment', 'Age', 'count'), 0.3089243903615402], [('work_interfere', 'Age', 'count'), 0.27196889037381333], [('Country', 'Age', 'min'), 0.23635068237453694], [('Country', 'Age', 'avg'), 0.17181412277571564], [('Country', 'Age', 'max'), 0.13020427192010883]]\n"
     ]
    },
    {
     "data": {
      "image/png": "[encoded data removed]",
      "text/plain": [
       "<Figure size 432x288 with 1 Axes>"
      ]
     },
     "metadata": {
      "needs_background": "light"
     },
     "output_type": "display_data"
    },
    {
     "data": {
      "image/png": "[encoded data removed]",
      "text/plain": [
       "<Figure size 432x288 with 1 Axes>"
      ]
     },
     "metadata": {
      "needs_background": "light"
     },
     "output_type": "display_data"
    },
    {
     "data": {
      "image/png": "[encoded data removed]",
      "text/plain": [
       "<Figure size 432x288 with 1 Axes>"
      ]
     },
     "metadata": {
      "needs_background": "light"
     },
     "output_type": "display_data"
    },
    {
     "data": {
      "image/png": "[encoded data removed]",
      "text/plain": [
       "<Figure size 432x288 with 1 Axes>"
      ]
     },
     "metadata": {
      "needs_background": "light"
     },
     "output_type": "display_data"
    },
    {
     "data": {
      "image/png": "[encoded data removed]",
      "text/plain": [
       "<Figure size 432x288 with 1 Axes>"
      ]
     },
     "metadata": {
      "needs_background": "light"
     },
     "output_type": "display_data"
    }
   ],
   "source": [
    "# for target and reference = family history\n",
    "k = 5\n",
    "aggregate_views_2 = generate_views_2()\n",
    "results = execute_queries(aggregate_views_2, 'family_history_people', 'no_family_history_people')\n",
    "\n",
    "topK_results = get_topK(results, k)\n",
    "print(topK_results)\n",
    "for row in topK_results:\n",
    "    visualize_query_2(row[0][0], row[0][1], row[0][2], 'family_history_people', 'no_family_history_people')"
   ]
  },
  {
   "cell_type": "code",
   "execution_count": 302,
   "id": "228afbfc",
   "metadata": {
    "scrolled": false
   },
   "outputs": [
    {
     "name": "stdout",
     "output_type": "stream",
     "text": [
      "[[('work_interfere', 'Age', 'count'), 1.0170688265925425], [('family_history', 'Age', 'count'), 0.3228300476193163], [('care_options', 'Age', 'count'), 0.16381755233444822], [('benefits', 'Age', 'count'), 0.10501400207977851], [('Gender', 'Age', 'count'), 0.09873983339464179]]\n"
     ]
    },
    {
     "data": {
      "image/png": "[encoded data removed]",
      "text/plain": [
       "<Figure size 432x288 with 1 Axes>"
      ]
     },
     "metadata": {
      "needs_background": "light"
     },
     "output_type": "display_data"
    },
    {
     "data": {
      "image/png": "[encoded data removed]",
      "text/plain": [
       "<Figure size 432x288 with 1 Axes>"
      ]
     },
     "metadata": {
      "needs_background": "light"
     },
     "output_type": "display_data"
    },
    {
     "data": {
      "image/png": "[encoded data removed]",
      "text/plain": [
       "<Figure size 432x288 with 1 Axes>"
      ]
     },
     "metadata": {
      "needs_background": "light"
     },
     "output_type": "display_data"
    },
    {
     "data": {
      "image/png": "[encoded data removed]",
      "text/plain": [
       "<Figure size 432x288 with 1 Axes>"
      ]
     },
     "metadata": {
      "needs_background": "light"
     },
     "output_type": "display_data"
    },
    {
     "data": {
      "image/png": "[encoded data removed]",
      "text/plain": [
       "<Figure size 432x288 with 1 Axes>"
      ]
     },
     "metadata": {
      "needs_background": "light"
     },
     "output_type": "display_data"
    }
   ],
   "source": [
    "# for target and reference = treatment\n",
    "k = 5\n",
    "aggregate_views_3 = generate_views_3()\n",
    "results = execute_queries(aggregate_views_3, 'treatment_people', 'no_treatment_people')\n",
    "\n",
    "topK_results = get_topK(results, k)\n",
    "print(topK_results)\n",
    "\n",
    "for row in topK_results:\n",
    "    visualize_query_3(row[0][0], row[0][1], row[0][2], 'treatment_people', 'no_treatment_people')"
   ]
  },
  {
   "cell_type": "code",
   "execution_count": 303,
   "id": "9a092c88",
   "metadata": {
    "scrolled": false
   },
   "outputs": [
    {
     "name": "stdout",
     "output_type": "stream",
     "text": [
      "[[('self_employed', 'Age', 'count'), 0.26216746904011534], [('company_size', 'Age', 'count'), 0.08759756558584053], [('tech_company', 'Age', 'count'), 0.04343091070004196], [('Gender', 'Age', 'max'), 0.0368342539287299], [('leave', 'Age', 'count'), 0.02723386141609243]]\n"
     ]
    },
    {
     "data": {
      "image/png": "[encoded data removed]",
      "text/plain": [
       "<Figure size 432x288 with 1 Axes>"
      ]
     },
     "metadata": {
      "needs_background": "light"
     },
     "output_type": "display_data"
    },
    {
     "data": {
      "image/png": "[encoded data removed]",
      "text/plain": [
       "<Figure size 432x288 with 1 Axes>"
      ]
     },
     "metadata": {
      "needs_background": "light"
     },
     "output_type": "display_data"
    },
    {
     "data": {
      "image/png": "[encoded data removed]",
      "text/plain": [
       "<Figure size 432x288 with 1 Axes>"
      ]
     },
     "metadata": {
      "needs_background": "light"
     },
     "output_type": "display_data"
    },
    {
     "data": {
      "image/png": "[encoded data removed]",
      "text/plain": [
       "<Figure size 432x288 with 1 Axes>"
      ]
     },
     "metadata": {
      "needs_background": "light"
     },
     "output_type": "display_data"
    },
    {
     "data": {
      "image/png": "[encoded data removed]",
      "text/plain": [
       "<Figure size 432x288 with 1 Axes>"
      ]
     },
     "metadata": {
      "needs_background": "light"
     },
     "output_type": "display_data"
    }
   ],
   "source": [
    "# for target and reference = remote work\n",
    "k = 5\n",
    "aggregate_views_4 = generate_views_4()\n",
    "results = execute_queries(aggregate_views_4, 'remote_work_people', 'no_remote_work_people')\n",
    "\n",
    "topK_results = get_topK(results, k)\n",
    "print(topK_results)\n",
    "for row in topK_results:\n",
    "    visualize_query_4(row[0][0], row[0][1], row[0][2], 'remote_work_people', 'no_remote_work_people')"
   ]
  },
  {
   "cell_type": "code",
   "execution_count": 307,
   "id": "0713bf71",
   "metadata": {},
   "outputs": [],
   "source": [
    "#Split data into partitions. This will be used in Pruning optimization. The number of partitions is assumed to be 10\n",
    "\n",
    "import csv\n",
    "import os\n",
    "def split_csv(source_filepath, dest_folder, split_file_prefix,\n",
    "                records_per_file):\n",
    "    \"\"\"\n",
    "    Split a source csv into multiple csvs of equal numbers of records,\n",
    "    except the last file.\n",
    "\n",
    "    Includes the initial header row in each split file.\n",
    "\n",
    "    Split files follow a zero-index sequential naming convention like so:\n",
    "\n",
    "        `{split_file_prefix}_0.csv`\n",
    "    \"\"\"\n",
    "    if records_per_file <= 0:\n",
    "        raise Exception('records_per_file must be > 0')\n",
    "\n",
    "    with open(source_filepath, 'r') as source:\n",
    "        reader = csv.reader(source)\n",
    "        headers = next(reader)\n",
    "\n",
    "        file_idx = 0\n",
    "        records_exist = True\n",
    "\n",
    "        while records_exist:\n",
    "\n",
    "            i = 0\n",
    "            target_filename = f'{split_file_prefix}_{file_idx}.csv'\n",
    "            target_filepath = os.path.join(dest_folder, target_filename)\n",
    "\n",
    "            with open(target_filepath, 'w') as target:\n",
    "                writer = csv.writer(target)\n",
    "\n",
    "                while i < records_per_file:\n",
    "                    if i == 0:\n",
    "                        writer.writerow(headers)\n",
    "\n",
    "                    try:\n",
    "                        writer.writerow(next(reader))\n",
    "                        i += 1\n",
    "                    except StopIteration:\n",
    "                        records_exist = False\n",
    "                        break\n",
    "\n",
    "            if i == 0:\n",
    "                # we only wrote the header, so delete that file\n",
    "                os.remove(target_filepath)\n",
    "\n",
    "            file_idx += 1"
   ]
  },
  {
   "cell_type": "code",
   "execution_count": 312,
   "id": "3b8484c3",
   "metadata": {},
   "outputs": [],
   "source": [
    "partitions = 10\n",
    "split_csv(\"./Downloads/survey_mht_clean.csv\", \"./Downloads/splitFiles\", \"employed\", len(df)/partitions )"
   ]
  },
  {
   "cell_type": "code",
   "execution_count": 319,
   "id": "c06a7cb5",
   "metadata": {},
   "outputs": [],
   "source": [
    "n_partitions = 10\n",
    "\n",
    "# Create partitions \n",
    "\n",
    "for i in range(n_partitions):\n",
    "    cur = conn.cursor()\n",
    "    query = \"\"\"create or replace view s{}_self_employed as \n",
    "                   select * from employed_{} where self_employed = 'Yes';\n",
    "               create or replace view s{}_not_self_employed as \n",
    "                   select * from employed_{} where self_employed = 'No';\"\"\".format(i,i,i,i)\n",
    "    cur.execute(query)\n",
    "    conn.commit()\n",
    "    \n",
    "    \n",
    "# Sharing based pruning for the current partition\n",
    "\n",
    "def sharing_based_execution(views, partition):\n",
    "    \n",
    "    # For a particular groupby(a) combine all measure attributes\n",
    "    \n",
    "    groupby_dict = {}\n",
    "    \n",
    "    results = {}\n",
    "    \n",
    "    for a, m, f in views:\n",
    "        \n",
    "        if a not in groupby_dict:\n",
    "            groupby_dict[a] = []\n",
    "        \n",
    "        groupby_dict[a].append(f + \"(\" + m + \")\")\n",
    "    \n",
    "    for a in groupby_dict:\n",
    "        \n",
    "        temp = ','.join(groupby_dict[a])\n",
    "        target_view = \"select \"+ a +\", \" + temp +\" from s\" + str(partition) + '_self_employed group by ' + a + ';'\n",
    "        reference_view = \"select \"+ a +\", \" + temp +\" from s\" + str(partition) + '_not_self_employed group by '  + a + ';'\n",
    "        \n",
    "        cur1 = conn.cursor()\n",
    "        cur2 = conn.cursor()\n",
    "    \n",
    "        cur1.execute(target_view)\n",
    "        cur2.execute(reference_view)\n",
    "        \n",
    "        temp_target_output = cur1.fetchall()\n",
    "        temp_ref_output = cur2.fetchall()\n",
    "        for i in range(1, len(groupby_dict[a])+1):\n",
    "            \n",
    "            target_output = []\n",
    "            reference_output = []\n",
    "            \n",
    "            for j in range(0, len(temp_target_output)):\n",
    "                \n",
    "                target_output.append((temp_target_output[j][0], temp_target_output[j][i]))\n",
    "                \n",
    "            for j in range(0, len(temp_ref_output)):\n",
    "                \n",
    "                reference_output.append((temp_ref_output[j][0], temp_ref_output[j][i]))\n",
    "            \n",
    "            res1, res2 = normalize(dict(target_output), dict(reference_output))\n",
    "    \n",
    "            utility_measure = calc_utility(res1, res2)\n",
    "            \n",
    "            if(math.isnan(utility_measure) or math.isinf(utility_measure)):\n",
    "                continue\n",
    "                \n",
    "            ind1 = groupby_dict[a][i-1].find('(')\n",
    "            ind2 = groupby_dict[a][i-1].find(')')\n",
    "            m = groupby_dict[a][i-1][0:ind1]\n",
    "            f = groupby_dict[a][i-1][ind1 + 1:ind2]\n",
    "            results[(a,f,m)] = utility_measure\n",
    "            \n",
    "    return results"
   ]
  },
  {
   "cell_type": "code",
   "execution_count": 320,
   "id": "1bb7bfa5",
   "metadata": {},
   "outputs": [],
   "source": [
    "def update_CI(view, running_utility, confidence_intervals, i, delta):\n",
    "    \n",
    "    curr_mean = np.mean(running_utility[view])\n",
    "    m = i+1\n",
    "    N = 10\n",
    "    eps =  np.sqrt((0.5/m)*(1-((m-1)/N))*(2*np.log(np.log(m))+np.log((np.pi**2)/(3*delta))))\n",
    "    confidence_intervals[view] = [curr_mean - eps, curr_mean + eps]\n",
    "    \n",
    "    \n",
    "def prune_views(views, k, confidence_intervals):\n",
    "    \n",
    "    confidence_intervals = dict(sorted(confidence_intervals.items(), key=lambda item: item[1][0], reverse = True))\n",
    "    ref_bound = list(confidence_intervals.values())[k+14][0]\n",
    "\n",
    "    del_views = []\n",
    "    for view in reversed(confidence_intervals.keys()):\n",
    "        \n",
    "        if confidence_intervals[view][1] < ref_bound:\n",
    "            del_views.append(view)\n",
    "            if view in views:\n",
    "                views.remove(view)\n",
    "            \n",
    "    for view in del_views:\n",
    "        del confidence_intervals[view]\n",
    "        \n",
    "\n",
    "def CI_based_pruning(views, delta, k):\n",
    "    \n",
    "    running_utility = {}\n",
    "    confidence_intervals = {}\n",
    "    for partition in range(n_partitions):\n",
    "        \n",
    "        results = sharing_based_execution(views, partition)\n",
    "        \n",
    "        for view in results:\n",
    "            \n",
    "            if view not in running_utility:    \n",
    "                running_utility[view] = []\n",
    "                \n",
    "            running_utility[view].append(results[view])\n",
    "            \n",
    "            if partition >= 1:\n",
    "                update_CI(view, running_utility, confidence_intervals, i, delta)\n",
    "        \n",
    "        if partition >= 1:\n",
    "            prune_views(views, k, confidence_intervals)\n",
    " "
   ]
  },
  {
   "cell_type": "code",
   "execution_count": 322,
   "id": "43975542",
   "metadata": {},
   "outputs": [
    {
     "name": "stdout",
     "output_type": "stream",
     "text": [
      "[[('remote_work', 'Age', 'count'), 0.45180686315612345], [('company_size', 'Age', 'count'), 0.3976369200408188], [('company_size', 'Age', 'max'), 0.3872428726404401], [('benefits', 'Age', 'count'), 0.37885206325491383], [('company_size', 'Age', 'avg'), 0.3065237200878724]]\n",
      "\n",
      "\n",
      "--- Execution time is 0.33133912086486816 seconds ---\n"
     ]
    }
   ],
   "source": [
    "start_time = time.time()\n",
    "pruning_views = generate_views()\n",
    "CI_based_pruning(pruning_views, 0.05, 5)\n",
    "results = execute_queries(pruning_views, 'self_employed_people', 'not_self_employed_people')\n",
    "print(get_topK(results, 5))\n",
    "print(\"\\n\\n--- Execution time is %s seconds ---\" % (time.time() - start_time))"
   ]
  },
  {
   "cell_type": "code",
   "execution_count": 329,
   "id": "327470f8",
   "metadata": {},
   "outputs": [
    {
     "data": {
      "image/png": "[encoded data removed]",
      "text/plain": [
       "<Figure size 432x288 with 1 Axes>"
      ]
     },
     "metadata": {
      "needs_background": "light"
     },
     "output_type": "display_data"
    },
    {
     "data": {
      "image/png": "[encoded data removed]",
      "text/plain": [
       "<Figure size 432x288 with 1 Axes>"
      ]
     },
     "metadata": {
      "needs_background": "light"
     },
     "output_type": "display_data"
    },
    {
     "data": {
      "image/png": "[encoded data removed]",
      "text/plain": [
       "<Figure size 432x288 with 1 Axes>"
      ]
     },
     "metadata": {
      "needs_background": "light"
     },
     "output_type": "display_data"
    },
    {
     "data": {
      "image/png": "[encoded data removed]",
      "text/plain": [
       "<Figure size 432x288 with 1 Axes>"
      ]
     },
     "metadata": {
      "needs_background": "light"
     },
     "output_type": "display_data"
    },
    {
     "data": {
      "image/png": "[encoded data removed]",
      "text/plain": [
       "<Figure size 432x288 with 1 Axes>"
      ]
     },
     "metadata": {
      "needs_background": "light"
     },
     "output_type": "display_data"
    }
   ],
   "source": [
    "for row in topK_results:\n",
    "    visualize_query(row[0][0], row[0][1], row[0][2], 'self_employed_people', 'not_self_employed_people')"
   ]
  }
 ],
 "metadata": {
  "kernelspec": {
   "display_name": "Python 3 (ipykernel)",
   "language": "python",
   "name": "python3"
  },
  "language_info": {
   "codemirror_mode": {
    "name": "ipython",
    "version": 3
   },
   "file_extension": ".py",
   "mimetype": "text/x-python",
   "name": "python",
   "nbconvert_exporter": "python",
   "pygments_lexer": "ipython3",
   "version": "3.9.7"
  }
 },
 "nbformat": 4,
 "nbformat_minor": 5
}
